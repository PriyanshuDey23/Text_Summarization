{
 "cells": [
  {
   "cell_type": "code",
   "execution_count": 1,
   "metadata": {},
   "outputs": [],
   "source": [
    "import os"
   ]
  },
  {
   "cell_type": "code",
   "execution_count": 2,
   "metadata": {},
   "outputs": [
    {
     "data": {
      "text/plain": [
       "'e:\\\\Text_Summarization\\\\research'"
      ]
     },
     "execution_count": 2,
     "metadata": {},
     "output_type": "execute_result"
    }
   ],
   "source": [
    "%pwd"
   ]
  },
  {
   "cell_type": "code",
   "execution_count": 3,
   "metadata": {},
   "outputs": [],
   "source": [
    "os.chdir(\"../\")"
   ]
  },
  {
   "cell_type": "code",
   "execution_count": 4,
   "metadata": {},
   "outputs": [
    {
     "data": {
      "text/plain": [
       "'e:\\\\Text_Summarization'"
      ]
     },
     "execution_count": 4,
     "metadata": {},
     "output_type": "execute_result"
    }
   ],
   "source": [
    "%pwd"
   ]
  },
  {
   "cell_type": "code",
   "execution_count": 5,
   "metadata": {},
   "outputs": [],
   "source": [
    "# Entity\n",
    "\n",
    "from dataclasses import dataclass\n",
    "from pathlib import Path\n",
    "\n",
    "# Config.yaml\n",
    "@dataclass(frozen=True)\n",
    "class DataIngestionConfig:  # It is not an actual class , but a data class\n",
    "    root_dir:Path\n",
    "    source_URL:str\n",
    "    local_data_file:Path\n",
    "    unzip_dir:Path"
   ]
  },
  {
   "cell_type": "code",
   "execution_count": 6,
   "metadata": {},
   "outputs": [],
   "source": [
    "from Text_Summarization.constrants import * # Import Everything\n",
    "from Text_Summarization.utils.common import read_yaml,create_directories "
   ]
  },
  {
   "cell_type": "code",
   "execution_count": 7,
   "metadata": {},
   "outputs": [],
   "source": [
    "# Config Manager\n",
    "# Paste in Configuration (config\\configuration.py)\n",
    "\n",
    "class ConfigurationManager:\n",
    "    def __init__(\n",
    "            self,\n",
    "            config_filepath=CONFIG_FILE_PATH,  # Return Box Type  # Ctrl+click to check the file path\n",
    "            params_filepath=PARAMS_FILE_PATH):\n",
    "\n",
    "            self.config=read_yaml(config_filepath)\n",
    "            self.params=read_yaml(params_filepath)\n",
    "\n",
    "            # From common.py\n",
    "            create_directories([self.config.artifacts_root]) # I can call using the key name using Box Type\n",
    "\n",
    "    def get_data_ingestion_config(self) -> DataIngestionConfig: # calling Data ingest config\n",
    "        config=self.config.data_ingestion  # Storing the config\n",
    "\n",
    "        create_directories([config.root_dir]) # Check config \n",
    "\n",
    "        # Define the custom return type of the function, check config, storing it\n",
    "        data_ingestion_config=DataIngestionConfig(\n",
    "            root_dir=config.root_dir,\n",
    "            source_URL=config.source_URL,\n",
    "            local_data_file=config.local_data_file,\n",
    "            unzip_dir=config.unzip_dir    \n",
    "        )\n",
    "\n",
    "        return data_ingestion_config\n",
    "    "
   ]
  },
  {
   "cell_type": "code",
   "execution_count": 8,
   "metadata": {},
   "outputs": [],
   "source": [
    "# If i call the function get data ingestion config, then i can access all the variable\n",
    "# Update the components\n",
    "# \\components\\data_ingestion.py\n",
    "\n",
    "import os\n",
    "import urllib.request as request  # Download the data set from url\n",
    "import zipfile # Unzip the data\n",
    "from Text_Summarization.logging import logger  # Logging\n",
    "from Text_Summarization.utils.common import get_size # Get datasize"
   ]
  },
  {
   "cell_type": "code",
   "execution_count": 9,
   "metadata": {},
   "outputs": [],
   "source": [
    "class DataIngestion:\n",
    "    def __init__(self,config: DataIngestionConfig): # we will get get data ingestion config\n",
    "        self.config=config\n",
    "\n",
    "    # Download File Method\n",
    "    def download_file(self):\n",
    "        if not os.path.exists(self.config.local_data_file):  # Check the directory,if not exists\n",
    "            filename,headers=request.urlretrieve(           # UrlRetrive:-Retrieve a URL into a temporary location on disk.\n",
    "                url=self.config.source_URL,\n",
    "                filename=self.config.local_data_file\n",
    "            )\n",
    "            logger.info(f\"{filename} download! with the following info: \\n{headers}\") # Header=url\n",
    "        else:\n",
    "            logger.info(f\"File already exists of size: {get_size(Path(self.config.local_data_file))}\")\n",
    "\n",
    "\n",
    "    # Extract the zip file\n",
    "    def extract_zip_file(self):\n",
    "        unzip_path=self.config.unzip_dir\n",
    "        os.makedirs(unzip_path,exist_ok=True)\n",
    "        with zipfile.ZipFile(self.config.local_data_file,'r') as zip_ref:\n",
    "            zip_ref.extractall(unzip_path) # Extract all file here (unzip_path)\n",
    "            \n",
    "\n",
    "    "
   ]
  },
  {
   "cell_type": "code",
   "execution_count": 10,
   "metadata": {},
   "outputs": [],
   "source": [
    "## Create The pipeline\n",
    "# pipeline\\stage_01_data_ingestion.py\n",
    "\n",
    "try:\n",
    "    config=ConfigurationManager()\n",
    "    data_ingestin_config=config.get_data_ingestion_config()\n",
    "    data_ingestion=DataIngestion(config=data_ingestin_config)\n",
    "    data_ingestion.download_file()\n",
    "    data_ingestion.extract_zip_file()\n",
    "except Exception as e:\n",
    "    raise e"
   ]
  }
 ],
 "metadata": {
  "kernelspec": {
   "display_name": "venv",
   "language": "python",
   "name": "python3"
  },
  "language_info": {
   "codemirror_mode": {
    "name": "ipython",
    "version": 3
   },
   "file_extension": ".py",
   "mimetype": "text/x-python",
   "name": "python",
   "nbconvert_exporter": "python",
   "pygments_lexer": "ipython3",
   "version": "3.8.0"
  }
 },
 "nbformat": 4,
 "nbformat_minor": 2
}
